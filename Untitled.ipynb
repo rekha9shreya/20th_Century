{
 "cells": [
  {
   "cell_type": "markdown",
   "id": "6ee61af8-00ae-4576-9092-86820def59ed",
   "metadata": {},
   "source": [
    "# 20th Century Notebook"
   ]
  },
  {
   "cell_type": "code",
   "execution_count": 1,
   "id": "82e70093-0517-4419-9dfa-57687739743e",
   "metadata": {
    "tags": []
   },
   "outputs": [],
   "source": [
    "x = 1 + 1"
   ]
  },
  {
   "cell_type": "code",
   "execution_count": 2,
   "id": "a7d6214f-fdb8-46c1-a8bb-74c34b04de55",
   "metadata": {
    "tags": []
   },
   "outputs": [
    {
     "name": "stdout",
     "output_type": "stream",
     "text": [
      "2\n"
     ]
    }
   ],
   "source": [
    "print(x)"
   ]
  },
  {
   "cell_type": "code",
   "execution_count": null,
   "id": "18b63231-bd88-468d-b2c8-ba8e3268b33e",
   "metadata": {},
   "outputs": [],
   "source": []
  }
 ],
 "metadata": {
  "kernelspec": {
   "display_name": "Python 3 (ipykernel)",
   "language": "python",
   "name": "python3"
  },
  "language_info": {
   "codemirror_mode": {
    "name": "ipython",
    "version": 3
   },
   "file_extension": ".py",
   "mimetype": "text/x-python",
   "name": "python",
   "nbconvert_exporter": "python",
   "pygments_lexer": "ipython3",
   "version": "3.11.5"
  }
 },
 "nbformat": 4,
 "nbformat_minor": 5
}
